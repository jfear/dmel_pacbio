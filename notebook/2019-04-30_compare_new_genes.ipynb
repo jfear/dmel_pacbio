{
 "cells": [
  {
   "cell_type": "code",
   "execution_count": 1,
   "metadata": {
    "collapsed": true,
    "pycharm": {
     "is_executing": false
    }
   },
   "outputs": [],
   "source": [
    "import pandas as pd\n",
    "pd.options.display.max_columns = 100\n"
   ]
  },
  {
   "cell_type": "code",
   "execution_count": 8,
   "metadata": {
    "pycharm": {
     "is_executing": false,
     "metadata": false,
     "name": "#%%\n"
    }
   },
   "outputs": [],
   "source": [
    "def parse(fname):\n",
    "    df = pd.read_csv(fname, sep='\\t', index_col=0)\n",
    "    #slice = (df.associated_gene.str.contains('novel') & ~df.associated_gene.str.contains('FBgn')).values\n",
    "    slice = df.associated_gene.str.contains('novel').values\n",
    "    return df[slice]\n"
   ]
  },
  {
   "cell_type": "code",
   "execution_count": 9,
   "metadata": {
    "pycharm": {
     "is_executing": false,
     "metadata": false,
     "name": "#%%\n"
    }
   },
   "outputs": [],
   "source": [
    "testis = parse('../output/pacbio-wf/w1118_testi1/sqanti/w1118_testi1.collapsed_classification.txt')\n"
   ]
  },
  {
   "cell_type": "code",
   "execution_count": 10,
   "metadata": {
    "pycharm": {
     "is_executing": false,
     "metadata": false,
     "name": "#%%\n"
    }
   },
   "outputs": [],
   "source": [
    "male = parse('../output/pacbio-wf/w1118_wmal1/sqanti/w1118_wmal1.collapsed_classification.txt')\n"
   ]
  },
  {
   "cell_type": "code",
   "execution_count": 11,
   "metadata": {
    "pycharm": {
     "is_executing": false,
     "metadata": false,
     "name": "#%%\n"
    }
   },
   "outputs": [
    {
     "data": {
      "text/plain": [
       "((59, 32), (84, 32))"
      ]
     },
     "execution_count": 11,
     "metadata": {},
     "output_type": "execute_result"
    }
   ],
   "source": [
    "testis.shape, male.shape"
   ]
  },
  {
   "cell_type": "code",
   "execution_count": 15,
   "metadata": {
    "pycharm": {
     "is_executing": false,
     "metadata": false,
     "name": "#%%\n"
    }
   },
   "outputs": [
    {
     "name": "stdout",
     "output_type": "stream",
     "text": [
      "PB.110.1\n",
      "PB.1421.1\n",
      "PB.1449.2\n",
      "PB.1519.1\n",
      "PB.1520.1\n",
      "PB.1523.1\n",
      "PB.1527.1\n",
      "PB.1530.1\n",
      "PB.1562.1\n",
      "PB.1629.1\n",
      "PB.1656.1\n",
      "PB.1665.1\n",
      "PB.1771.1\n",
      "PB.1780.1\n",
      "PB.197.1\n",
      "PB.1982.1\n",
      "PB.23.1\n",
      "PB.2339.1\n",
      "PB.24.1\n",
      "PB.2416.1\n",
      "PB.2416.2\n",
      "PB.2416.3\n",
      "PB.2585.1\n",
      "PB.2618.1\n",
      "PB.2746.1\n",
      "PB.2827.1\n",
      "PB.2988.1\n",
      "PB.2988.2\n",
      "PB.30.1\n",
      "PB.3046.1\n",
      "PB.3259.1\n",
      "PB.3261.1\n",
      "PB.3262.1\n",
      "PB.3266.1\n",
      "PB.3284.1\n",
      "PB.3387.1\n",
      "PB.3477.1\n",
      "PB.3692.1\n",
      "PB.3780.1\n",
      "PB.3852.1\n",
      "PB.3909.1\n",
      "PB.3958.1\n",
      "PB.4031.1\n",
      "PB.4079.1\n",
      "PB.4119.2\n",
      "PB.4119.4\n",
      "PB.4275.1\n",
      "PB.4276.1\n",
      "PB.435.1\n",
      "PB.4394.1\n",
      "PB.523.1\n",
      "PB.561.1\n",
      "PB.602.1\n",
      "PB.666.1\n",
      "PB.671.1\n",
      "PB.738.1\n",
      "PB.774.1\n",
      "PB.818.1\n",
      "PB.989.1\n"
     ]
    }
   ],
   "source": [
    "[print(x) for x in sorted(testis.index.values.tolist())];"
   ]
  },
  {
   "cell_type": "code",
   "execution_count": null,
   "metadata": {
    "pycharm": {
     "metadata": false,
     "name": "#%%\n"
    }
   },
   "outputs": [],
   "source": [
    "\n"
   ]
  }
 ],
 "metadata": {
  "kernelspec": {
   "display_name": "Python [conda env:dmel_pacbio]",
   "language": "python",
   "name": "conda-env-dmel_pacbio-py"
  },
  "language_info": {
   "codemirror_mode": {
    "name": "ipython",
    "version": 3
   },
   "file_extension": ".py",
   "mimetype": "text/x-python",
   "name": "python",
   "nbconvert_exporter": "python",
   "pygments_lexer": "ipython3",
   "version": "3.6.5"
  }
 },
 "nbformat": 4,
 "nbformat_minor": 2
}
